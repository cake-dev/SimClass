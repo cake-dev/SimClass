{
 "cells": [
  {
   "cell_type": "markdown",
   "metadata": {},
   "source": [
    "### Problem 1.1. Distribution of money"
   ]
  },
  {
   "cell_type": "markdown",
   "metadata": {},
   "source": [
    "The distribution of income in a society $f(m)$ behaves as $f(m) ∝ m^{−1−α}$ , where m is the income\n",
    "(money) and the exponent α is between 1 and 2. The quantity $f(m)$ can be taken to be the\n",
    "number of people who have an amount of money between $m$ and $m + ∆m$. This power law\n",
    "behavior of the income distribution is often referred to as Pareto’s law or the 80/20 rule (20%\n",
    "of the people have 80% of the income) and was proposed in the late 1800’s by Vilfredo Pareto,\n",
    "an economist and sociologist. In the following, we consider some simple models of a closed\n",
    "economy to determine the relation between the microdynamics and the resulting macroscopic\n",
    "distribution of money"
   ]
  },
  {
   "cell_type": "markdown",
   "metadata": {},
   "source": [
    "(a) Suppose that N agents (people) can exchange money in pairs. For simplicity, we assume\n",
    "that all the agents are initially assigned the same amount of money $m0$, and the agents are\n",
    "then allowed to interact. At each time step, a pair of agents $i$ and $j$ with money $m_i$ and $m_j$\n",
    "is randomly chosen and a transaction takes place. Again for simplicity, let us assume that\n",
    "$m_i → m_i'$\n",
    "and $m_j → m_j'$\n",
    "by a random reassignment of their total amount of money, $m_i + m_j$\n",
    ",\n",
    "such that\n",
    "\n",
    "$m_i'=\\epsilon (m_i + m_j)$ (1.1a)\n",
    "\n",
    "$m_j'=(1-\\epsilon)(m_i + m_j)$ (1.1b)\n",
    "\n",
    "where $\\epsilon$ is a random number between 0 and 1. Note that this reassignment ensures that the\n",
    "agents have no debt after the transaction, that is, they are always left with an amount $m$ ≥ 0.\n",
    "Simulate this model and determine the distribution of money among the agents after the\n",
    "system has relaxed to an equilibrium state. Choose $N$ = 100 and $m_0$ = 1000."
   ]
  },
  {
   "cell_type": "code",
   "execution_count": null,
   "metadata": {},
   "outputs": [],
   "source": [
    "import numpy as np\n",
    "import matplotlib.pyplot as plt\n",
    "import random\n",
    "\n",
    "N = 100\n",
    "m0 = 1000\n",
    "m = [m0] * N\n",
    "\n",
    "for q in range(0, 1000000):\n",
    "    eps = random.random()\n",
    "    i = random.randint(0, N-1)\n",
    "    j = random.randint(0, N-1)\n",
    "    if i == j:\n",
    "        continue\n",
    "    total = m[i] + m[j]\n",
    "    m[i] = eps * total\n",
    "    m[j] = (1-eps) * (total)\n",
    "\n",
    "plt.figure(figsize=(6, 3))\n",
    "plt.hist(m, bins=30, density=True, edgecolor='black')\n",
    "plt.title(\"Money Distribution after Relaxation\")\n",
    "plt.xlabel(\"Money\")\n",
    "plt.ylabel(\"Probability Density\")\n",
    "plt.grid(True)\n",
    "plt.show()"
   ]
  }
 ],
 "metadata": {
  "kernelspec": {
   "display_name": "simenv",
   "language": "python",
   "name": "python3"
  },
  "language_info": {
   "codemirror_mode": {
    "name": "ipython",
    "version": 3
   },
   "file_extension": ".py",
   "mimetype": "text/x-python",
   "name": "python",
   "nbconvert_exporter": "python",
   "pygments_lexer": "ipython3",
   "version": "3.12.1"
  }
 },
 "nbformat": 4,
 "nbformat_minor": 2
}
