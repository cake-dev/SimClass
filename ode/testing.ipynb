{
 "cells": [
  {
   "cell_type": "code",
   "execution_count": 1,
   "metadata": {},
   "outputs": [],
   "source": [
    "import numpy as np\n",
    "import matplotlib.pyplot as plt\n",
    "from matplotlib import animation,rc\n",
    "from IPython.display import HTML\n",
    "from integrators import *\n",
    "from n_body_rhs import *\n",
    "from n_body_ic import *\n",
    "import time\n",
    "\n",
    "def plot_3body(y):\n",
    "    # show trajectories of all bodies on the same plot\n",
    "    plt.plot(y[:,0],y[:,1],label='body1')\n",
    "    plt.plot(y[:,2],y[:,3],label='body2')\n",
    "    plt.plot(y[:,4],y[:,5],label='body3')\n",
    "    plt.xlabel('x')\n",
    "    plt.ylabel('y')\n",
    "    plt.legend()\n",
    "    plt.show()\n",
    "\n",
    "def plot_4body(y):\n",
    "    # show trajectories of all bodies on the same plot\n",
    "    plt.plot(y[:,0],y[:,1],label='body1')\n",
    "    plt.plot(y[:,2],y[:,3],label='body2')\n",
    "    plt.plot(y[:,4],y[:,5],label='body3')\n",
    "    plt.plot(y[:,6],y[:,7],label='body4')\n",
    "    plt.xlabel('x')\n",
    "    plt.ylabel('y')\n",
    "    plt.legend()\n",
    "    plt.show()"
   ]
  },
  {
   "cell_type": "code",
   "execution_count": 4,
   "metadata": {},
   "outputs": [
    {
     "name": "stdout",
     "output_type": "stream",
     "text": [
      "rtol:  1e-14\n",
      "atol:  1e-10\n"
     ]
    },
    {
     "ename": "TypeError",
     "evalue": "RK45() missing 2 required positional arguments: 'atol' and 'args'",
     "output_type": "error",
     "traceback": [
      "\u001b[0;31m---------------------------------------------------------------------------\u001b[0m",
      "\u001b[0;31mTypeError\u001b[0m                                 Traceback (most recent call last)",
      "Cell \u001b[0;32mIn[4], line 11\u001b[0m\n\u001b[1;32m      8\u001b[0m rtol \u001b[38;5;241m=\u001b[39m \u001b[38;5;241m1e-14\u001b[39m\n\u001b[1;32m     10\u001b[0m start_t \u001b[38;5;241m=\u001b[39m time\u001b[38;5;241m.\u001b[39mtime()\n\u001b[0;32m---> 11\u001b[0m t_s,y \u001b[38;5;241m=\u001b[39m \u001b[43msolve_ode_RK45\u001b[49m\u001b[43m(\u001b[49m\u001b[43mn_body\u001b[49m\u001b[43m,\u001b[49m\u001b[43mt_span\u001b[49m\u001b[43m,\u001b[49m\u001b[43m \u001b[49m\u001b[43my0\u001b[49m\u001b[43m,\u001b[49m\u001b[43m \u001b[49m\u001b[43mRK45\u001b[49m\u001b[43m,\u001b[49m\u001b[43m \u001b[49m\u001b[43margs\u001b[49m\u001b[38;5;241;43m=\u001b[39;49m\u001b[43m(\u001b[49m\u001b[43mp\u001b[49m\u001b[43m,\u001b[49m\u001b[43m)\u001b[49m\u001b[43m,\u001b[49m\u001b[43matol\u001b[49m\u001b[38;5;241;43m=\u001b[39;49m\u001b[43matol\u001b[49m\u001b[43m,\u001b[49m\u001b[43mrtol\u001b[49m\u001b[38;5;241;43m=\u001b[39;49m\u001b[43mrtol\u001b[49m\u001b[43m,\u001b[49m\u001b[43mfirst_step\u001b[49m\u001b[38;5;241;43m=\u001b[39;49m\u001b[43mdt\u001b[49m\u001b[43m)\u001b[49m\n\u001b[1;32m     12\u001b[0m end_t \u001b[38;5;241m=\u001b[39m time\u001b[38;5;241m.\u001b[39mtime()\n\u001b[1;32m     13\u001b[0m \u001b[38;5;28mprint\u001b[39m(\u001b[38;5;124m\"\u001b[39m\u001b[38;5;124mTime Elapsed = \u001b[39m\u001b[38;5;132;01m%4.3f\u001b[39;00m\u001b[38;5;124m seconds.\u001b[39m\u001b[38;5;124m\"\u001b[39m\u001b[38;5;241m%\u001b[39m(end_t\u001b[38;5;241m-\u001b[39mstart_t))\n",
      "File \u001b[0;32m~/School/Spring2025/Simulation/SimClass/ode/integrators.py:155\u001b[0m, in \u001b[0;36msolve_ode_RK45\u001b[0;34m(f, tspan, y0, method, args, **options)\u001b[0m\n\u001b[1;32m    152\u001b[0m \u001b[38;5;28mprint\u001b[39m(\u001b[38;5;124mf\u001b[39m\u001b[38;5;124m'\u001b[39m\u001b[38;5;124matol: \u001b[39m\u001b[38;5;124m'\u001b[39m, atol)\n\u001b[1;32m    154\u001b[0m \u001b[38;5;28;01mwhile\u001b[39;00m t[\u001b[38;5;241m-\u001b[39m\u001b[38;5;241m1\u001b[39m]\u001b[38;5;241m<\u001b[39mtf:\n\u001b[0;32m--> 155\u001b[0m     y\u001b[38;5;241m.\u001b[39mappend(\u001b[43mmethod\u001b[49m\u001b[43m(\u001b[49m\u001b[43mdt\u001b[49m\u001b[43m,\u001b[49m\u001b[43m \u001b[49m\u001b[43mf\u001b[49m\u001b[43m,\u001b[49m\u001b[43m \u001b[49m\u001b[43mt\u001b[49m\u001b[43m[\u001b[49m\u001b[38;5;241;43m-\u001b[39;49m\u001b[38;5;241;43m1\u001b[39;49m\u001b[43m]\u001b[49m\u001b[43m,\u001b[49m\u001b[43m \u001b[49m\u001b[43my\u001b[49m\u001b[43m[\u001b[49m\u001b[38;5;241;43m-\u001b[39;49m\u001b[38;5;241;43m1\u001b[39;49m\u001b[43m]\u001b[49m\u001b[43m,\u001b[49m\u001b[43m \u001b[49m\u001b[43mrtol\u001b[49m\u001b[43m,\u001b[49m\u001b[43m \u001b[49m\u001b[43matol\u001b[49m\u001b[43m,\u001b[49m\u001b[43m \u001b[49m\u001b[43margs\u001b[49m\u001b[43m)\u001b[49m)\n\u001b[1;32m    156\u001b[0m     t\u001b[38;5;241m.\u001b[39mappend(t[\u001b[38;5;241m-\u001b[39m\u001b[38;5;241m1\u001b[39m] \u001b[38;5;241m+\u001b[39m dt)\n\u001b[1;32m    158\u001b[0m \u001b[38;5;28;01mreturn\u001b[39;00m np\u001b[38;5;241m.\u001b[39marray(t), np\u001b[38;5;241m.\u001b[39marray(y)\n",
      "File \u001b[0;32m~/School/Spring2025/Simulation/SimClass/ode/integrators.py:66\u001b[0m, in \u001b[0;36mRK45\u001b[0;34m(dt, f, t, y, rtol, atol, args)\u001b[0m\n\u001b[1;32m     64\u001b[0m     \u001b[38;5;28;01mreturn\u001b[39;00m y_new \u001b[38;5;66;03m# if the error is small enough, we return the new y\u001b[39;00m\n\u001b[1;32m     65\u001b[0m \u001b[38;5;28;01melse\u001b[39;00m:\n\u001b[0;32m---> 66\u001b[0m     \u001b[38;5;28;01mreturn\u001b[39;00m \u001b[43mRK45\u001b[49m\u001b[43m(\u001b[49m\u001b[43mdt\u001b[49m\u001b[38;5;241;43m/\u001b[39;49m\u001b[38;5;241;43m2\u001b[39;49m\u001b[43m,\u001b[49m\u001b[43m \u001b[49m\u001b[43mf\u001b[49m\u001b[43m,\u001b[49m\u001b[43m \u001b[49m\u001b[43mt\u001b[49m\u001b[43m,\u001b[49m\u001b[43m \u001b[49m\u001b[43my\u001b[49m\u001b[43m,\u001b[49m\u001b[43m \u001b[49m\u001b[43margs\u001b[49m\u001b[43m)\u001b[49m\n",
      "\u001b[0;31mTypeError\u001b[0m: RK45() missing 2 required positional arguments: 'atol' and 'args'"
     ]
    }
   ],
   "source": [
    "y0 = skinny_pinapple\n",
    "p  = p3\n",
    "dt = .01\n",
    "t_span = [0,100]\n",
    "d=2\n",
    "\n",
    "atol = 1e-10\n",
    "rtol = 1e-14\n",
    "\n",
    "start_t = time.time()\n",
    "t_s,y = solve_ode_RK45(n_body,t_span, y0, RK45, args=(p,),atol=atol,rtol=rtol,first_step=dt)\n",
    "end_t = time.time()\n",
    "print(\"Time Elapsed = %4.3f seconds.\"%(end_t-start_t))\n",
    "plot_3body(y)\n",
    "# anim = show_anim(t_s,y)\n",
    "# HTML(anim.to_html5_video())\n",
    "# plt.style.use(\"seaborn-v0_8\")\n",
    "# plt.axis(\"on\")\n",
    "# E = total_energy(y,p)\n",
    "# #plt.plot(E,'r')\n",
    "# small = 1e-7\n",
    "# plt.ylim(E.min()*(1-small),E.max()*(1+small))"
   ]
  }
 ],
 "metadata": {
  "kernelspec": {
   "display_name": "aispace",
   "language": "python",
   "name": "python3"
  },
  "language_info": {
   "codemirror_mode": {
    "name": "ipython",
    "version": 3
   },
   "file_extension": ".py",
   "mimetype": "text/x-python",
   "name": "python",
   "nbconvert_exporter": "python",
   "pygments_lexer": "ipython3",
   "version": "3.9.20"
  }
 },
 "nbformat": 4,
 "nbformat_minor": 2
}
